{
 "cells": [
  {
   "cell_type": "code",
   "execution_count": null,
   "metadata": {},
   "outputs": [],
   "source": [
    "from league import RiotAPI, League\n",
    "from config import Config\n",
    "import logging\n",
    "import time\n",
    "import json\n",
    "from tqdm import tqdm\n",
    "import pandas as pd\n",
    "import numpy as np\n",
    "import matplotlib.pyplot as plt\n",
    "import seaborn as sns"
   ]
  },
  {
   "cell_type": "code",
   "execution_count": null,
   "metadata": {},
   "outputs": [],
   "source": [
    "secrets = Config()\n",
    "api_key = secrets.get(\"api_key\")\n"
   ]
  },
  {
   "cell_type": "code",
   "execution_count": null,
   "metadata": {},
   "outputs": [],
   "source": [
    "config = Config()\n",
    "api = RiotAPI(config)\n",
    "league = League(\"totis\", api)"
   ]
  },
  {
   "cell_type": "code",
   "execution_count": null,
   "metadata": {},
   "outputs": [],
   "source": [
    "last_match = league.get_matches(count=1)"
   ]
  },
  {
   "cell_type": "code",
   "execution_count": null,
   "metadata": {},
   "outputs": [],
   "source": [
    "last_match"
   ]
  },
  {
   "cell_type": "code",
   "execution_count": null,
   "metadata": {},
   "outputs": [],
   "source": [
    "last_match_info = league.get_match_info(last_match[0])"
   ]
  },
  {
   "cell_type": "code",
   "execution_count": null,
   "metadata": {},
   "outputs": [],
   "source": [
    "last_match_info"
   ]
  },
  {
   "cell_type": "code",
   "execution_count": null,
   "metadata": {},
   "outputs": [],
   "source": [
    "main_keys = list(last_match_info[\"info\"][\"participants\"][0].keys())\n",
    "main_keys"
   ]
  },
  {
   "cell_type": "code",
   "execution_count": null,
   "metadata": {},
   "outputs": [],
   "source": [
    "last_match_info[\"info\"][\"participants\"][0][\"challenges\"].keys()"
   ]
  },
  {
   "cell_type": "code",
   "execution_count": null,
   "metadata": {},
   "outputs": [],
   "source": [
    "challenges={\n",
    "    \"abilityUses\": 186,\n",
    "    \"bountyGold\": 1275,\n",
    "    \"controlWardsPlaced\": 0,\n",
    "    \"damagePerMinute\": 1777.0054566655733,\n",
    "    \"dodgeSkillShotsSmallWindow\": 46,\n",
    "    \"firstTurretKilled\": 1,\n",
    "    \"firstTurretKilledTime\": 531.0225707,\n",
    "    \"goldPerMinute\": 783.3466657043723,\n",
    "    \"initialBuffCount\": 0,\n",
    "    \"initialCrabCount\": 0,\n",
    "    \"jungleCsBefore10Minutes\": 0,\n",
    "    \"landSkillShotsEarlyGame\": 101,\n",
    "    \"laneMinionsFirst10Minutes\": 26,\n",
    "    \"outerTurretExecutesBefore10Minutes\": 0,\n",
    "    \"outnumberedKills\": 3,\n",
    "    \"scuttleCrabKills\": 0,\n",
    "    \"skillshotsDodged\": 273,\n",
    "    \"skillshotsHit\": 175,\n",
    "    \"snowballsHit\": 0,\n",
    "    \"soloKills\": 0,\n",
    "    \"stealthWardsPlaced\": 0,\n",
    "    \"turretPlatesTaken\": 0,\n",
    "    \"turretTakedowns\": 1,\n",
    "    \"visionScorePerMinute\": 0,\n",
    "    \"wardTakedowns\": 0,\n",
    "}\n",
    "challenges_keys = challenges.keys()"
   ]
  },
  {
   "cell_type": "code",
   "execution_count": null,
   "metadata": {},
   "outputs": [],
   "source": [
    "challenges_keys "
   ]
  },
  {
   "cell_type": "code",
   "execution_count": null,
   "metadata": {},
   "outputs": [],
   "source": [
    "matches = []"
   ]
  },
  {
   "cell_type": "code",
   "execution_count": null,
   "metadata": {},
   "outputs": [],
   "source": [
    "# While no error run a loop\n",
    "i=0\n",
    "s=0\n",
    "while s<15000:\n",
    "    try:\n",
    "        matches.append(league.get_matches(start=s,count=100))\n",
    "    except Exception as e:\n",
    "        logging.info(f\"Error while getting matches in loop {i}: {e}\")\n",
    "        break\n",
    "    i+=1\n",
    "    s+=100\n",
    "    time.sleep(1.5)"
   ]
  },
  {
   "cell_type": "code",
   "execution_count": null,
   "metadata": {},
   "outputs": [],
   "source": [
    "len(matches)"
   ]
  },
  {
   "cell_type": "code",
   "execution_count": null,
   "metadata": {},
   "outputs": [],
   "source": [
    "with open(\"matches.json\", \"w\") as f:\n",
    "    json.dump(matches, f)"
   ]
  },
  {
   "cell_type": "code",
   "execution_count": null,
   "metadata": {},
   "outputs": [],
   "source": [
    "import pandas as pd"
   ]
  },
  {
   "cell_type": "code",
   "execution_count": null,
   "metadata": {},
   "outputs": [],
   "source": [
    "df = pd.DataFrame(matches)"
   ]
  },
  {
   "cell_type": "code",
   "execution_count": null,
   "metadata": {},
   "outputs": [],
   "source": [
    "df.to_csv(\"matches.csv\")"
   ]
  },
  {
   "cell_type": "code",
   "execution_count": null,
   "metadata": {},
   "outputs": [],
   "source": [
    "df"
   ]
  },
  {
   "cell_type": "code",
   "execution_count": null,
   "metadata": {},
   "outputs": [],
   "source": [
    "#load json file\n",
    "with open(\"./data/matches.json\", \"r\") as f:\n",
    "    matches = json.load(f)"
   ]
  },
  {
   "cell_type": "code",
   "execution_count": null,
   "metadata": {},
   "outputs": [],
   "source": [
    "#make it into 1 single list with no empty values\n",
    "matches = [match for sublist in matches for match in sublist if match]"
   ]
  },
  {
   "cell_type": "code",
   "execution_count": null,
   "metadata": {},
   "outputs": [],
   "source": [
    "matches"
   ]
  },
  {
   "cell_type": "code",
   "execution_count": null,
   "metadata": {},
   "outputs": [],
   "source": [
    "# Get match info\n",
    "historic_match_info = []\n",
    "for match in tqdm(matches):\n",
    "    try:\n",
    "        historic_match_info.append(league.get_match_info(match))\n",
    "    except Exception as e:\n",
    "        logging.info(f\"Error while getting match info for match {match}: {e}\")\n",
    "        continue\n",
    "    time.sleep(1.5)"
   ]
  },
  {
   "cell_type": "code",
   "execution_count": null,
   "metadata": {},
   "outputs": [],
   "source": [
    "#store it in a json file\n",
    "with open(\"historic_match_info.json\", \"w\") as f:\n",
    "    json.dump(historic_match_info, f)"
   ]
  },
  {
   "cell_type": "code",
   "execution_count": null,
   "metadata": {},
   "outputs": [],
   "source": [
    "# In this loop we only focus on totis\n",
    "challenge_keys_to_keep = list(challenges_keys)\n",
    "participant_keys_to_keep = main_keys\n",
    "\n",
    "historic_players = []\n",
    "historic_matches_db = []\n",
    "\n",
    "for match_info in historic_match_info:\n",
    "    match_data = {\n",
    "        \"match_id\": match_info[\"metadata\"][\"matchId\"],\n",
    "        \"game_duration\": match_info[\"info\"][\"gameDuration\"],\n",
    "        \"game_mode\": match_info[\"info\"][\"gameMode\"],\n",
    "        \"game_start_time\": match_info[\"info\"][\"gameStartTimestamp\"]\n",
    "    }\n",
    "\n",
    "    for participant in match_info[\"info\"][\"participants\"]:\n",
    "        if participant[\"summonerName\"] == \"totis\":\n",
    "            participant_data = {key: participant[key] for key in participant_keys_to_keep if key in participant}\n",
    "            match_data.update(participant_data)\n",
    "        else:\n",
    "            player_data = {\n",
    "                \"summoner_name\": participant[\"summonerName\"],\n",
    "                \"summoner_id\": participant[\"summonerId\"],\n",
    "                \"puuid\": participant[\"puuid\"],\n",
    "                \"match_id\": match_info[\"metadata\"][\"matchId\"]\n",
    "            }\n",
    "            historic_players.append(player_data)\n",
    "\n",
    "\n",
    "    \n",
    "    historic_matches_db.append(match_data)"
   ]
  },
  {
   "cell_type": "code",
   "execution_count": null,
   "metadata": {},
   "outputs": [],
   "source": [
    "totis_df = pd.DataFrame(historic_matches_db)\n",
    "totis_df.to_csv(\"historic_matches_db.csv\")\n",
    "players = pd.DataFrame(historic_players)\n",
    "players.to_csv(\"historic_players.csv\")\n"
   ]
  },
  {
   "cell_type": "code",
   "execution_count": null,
   "metadata": {},
   "outputs": [],
   "source": [
    "#load\n",
    "totis_df= pd.read_csv(\"./data/historic_matches_db.csv\")\n",
    "players = pd.read_csv(\"./data/historic_players.csv\")"
   ]
  },
  {
   "cell_type": "code",
   "execution_count": null,
   "metadata": {},
   "outputs": [],
   "source": [
    "#return this with minute resolution\n",
    "totis_df[\"game_date\"] = pd.to_datetime(totis_df[\"game_start_time\"], unit=\"ms\").dt.floor('S')\n",
    "totis_df[\"game_date\"].head()\n",
    "# ren"
   ]
  },
  {
   "cell_type": "code",
   "execution_count": null,
   "metadata": {},
   "outputs": [],
   "source": [
    "totis_df.to_csv(\"historic_matches_db.csv\")"
   ]
  },
  {
   "cell_type": "code",
   "execution_count": null,
   "metadata": {},
   "outputs": [],
   "source": [
    "list(totis_df.columns)"
   ]
  },
  {
   "cell_type": "code",
   "execution_count": null,
   "metadata": {},
   "outputs": [],
   "source": [
    "players"
   ]
  },
  {
   "cell_type": "code",
   "execution_count": null,
   "metadata": {},
   "outputs": [],
   "source": [
    "players[\"summoner_name\"].value_counts().head(15).plot(kind=\"barh\")\n",
    "plt.title(\"Top 15 players with most games played\")\n",
    "plt.bar_label(plt.gca().containers[0])\n",
    "plt.xlabel(\"Games played\")\n",
    "plt.show()"
   ]
  },
  {
   "cell_type": "code",
   "execution_count": null,
   "metadata": {},
   "outputs": [],
   "source": [
    "totis_df[\"game_mode\"].value_counts().plot(kind=\"barh\")\n",
    "plt.title(\"Game modes played\")\n",
    "plt.bar_label(plt.gca().containers[0])\n",
    "plt.xlabel(\"Games played\")\n",
    "plt.show()"
   ]
  },
  {
   "cell_type": "code",
   "execution_count": null,
   "metadata": {},
   "outputs": [],
   "source": [
    "totis_df[\"game_start_time\"] = pd.to_datetime(totis_df[\"game_start_time\"], unit=\"ms\")"
   ]
  },
  {
   "cell_type": "code",
   "execution_count": null,
   "metadata": {},
   "outputs": [],
   "source": [
    "totis_df = totis_df.sort_values(\"game_start_time\")"
   ]
  },
  {
   "cell_type": "code",
   "execution_count": null,
   "metadata": {},
   "outputs": [],
   "source": [
    "totis_df[\"kills\"].plot(kind=\"hist\")"
   ]
  },
  {
   "cell_type": "code",
   "execution_count": null,
   "metadata": {},
   "outputs": [],
   "source": [
    "totis_df.groupby(\"championName\")[\"kills\"].mean().sort_values(ascending=False).head(15).plot(kind=\"barh\")\n",
    "#plot also total count of games played with that champion\n",
    "\n",
    "plt.title(\"Top 15 champions with most kills\")\n",
    "plt.bar_label(plt.gca().containers[0])\n",
    "plt.xlabel(\"Average kills\")\n",
    "plt.show()"
   ]
  },
  {
   "cell_type": "code",
   "execution_count": null,
   "metadata": {},
   "outputs": [],
   "source": [
    "fig, axes = plt.subplots(1, 2, figsize=(10, 5))\n",
    "\n",
    "totis_df[\"championName\"].value_counts().head(15).sort_values(ascending=True).plot(kind=\"barh\", ax=axes[0])\n",
    "axes[0].set_title(\"Top 15 champions with most games played\")\n",
    "axes[0].set_xlabel(\"Games played\")\n",
    "\n",
    "totis_df[\"championName\"].value_counts().tail(15).sort_values(ascending=True).plot(kind=\"barh\", ax=axes[1])\n",
    "axes[1].set_title(\"Top 15 champions with least games played\")\n",
    "axes[1].set_xlabel(\"Games played\")\n",
    "\n",
    "plt.tight_layout()\n",
    "plt.show()\n"
   ]
  },
  {
   "cell_type": "code",
   "execution_count": null,
   "metadata": {},
   "outputs": [],
   "source": [
    "totis_df[\"win\"].value_counts().plot(kind=\"pie\", autopct=\"%.2f%%\")"
   ]
  },
  {
   "cell_type": "code",
   "execution_count": null,
   "metadata": {},
   "outputs": [],
   "source": []
  }
 ],
 "metadata": {
  "kernelspec": {
   "display_name": "Python 3",
   "language": "python",
   "name": "python3"
  },
  "language_info": {
   "codemirror_mode": {
    "name": "ipython",
    "version": 3
   },
   "file_extension": ".py",
   "mimetype": "text/x-python",
   "name": "python",
   "nbconvert_exporter": "python",
   "pygments_lexer": "ipython3",
   "version": "3.10.9"
  }
 },
 "nbformat": 4,
 "nbformat_minor": 2
}
